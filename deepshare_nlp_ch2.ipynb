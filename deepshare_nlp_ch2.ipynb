{
 "cells": [
  {
   "cell_type": "code",
   "execution_count": 6,
   "metadata": {
    "ExecuteTime": {
     "end_time": "2020-08-06T02:31:18.982887Z",
     "start_time": "2020-08-06T02:31:09.301667Z"
    }
   },
   "outputs": [
    {
     "name": "stdout",
     "output_type": "stream",
     "text": [
      "Populating the interactive namespace from numpy and matplotlib\n"
     ]
    }
   ],
   "source": [
    "from sklearn.feature_extraction.text import TfidfVectorizer\n",
    "from sklearn.linear_model import RidgeClassifier, LogisticRegression\n",
    "from lightgbm import LGBMClassifier\n",
    "import pandas as pd\n",
    "from sklearn.metrics import f1_score\n",
    "\n",
    "%pylab inline\n",
    "\n",
    "train_df = pd.read_csv('../input/train_set.csv', sep='\\t', nrows=None)\n",
    "test_df = pd.read_csv('../input/test_a.csv', sep='\\t', nrows=None)"
   ]
  },
  {
   "cell_type": "code",
   "execution_count": 7,
   "metadata": {
    "ExecuteTime": {
     "end_time": "2020-08-05T12:35:38.524622Z",
     "start_time": "2020-08-05T12:35:38.314311Z"
    }
   },
   "outputs": [
    {
     "data": {
      "text/plain": [
       "<matplotlib.axes._subplots.AxesSubplot at 0x7ff6caa95be0>"
      ]
     },
     "execution_count": 7,
     "metadata": {},
     "output_type": "execute_result"
    },
    {
     "data": {
      "image/png": "[encoded data removed]",
      "text/plain": [
       "<Figure size 432x288 with 1 Axes>"
      ]
     },
     "metadata": {
      "needs_background": "light"
     },
     "output_type": "display_data"
    }
   ],
   "source": [
    "train_df['label'].value_counts().plot(kind='bar')"
   ]
  },
  {
   "cell_type": "markdown",
   "metadata": {
    "ExecuteTime": {
     "end_time": "2020-08-05T12:38:22.259142Z",
     "start_time": "2020-08-05T12:38:21.745661Z"
    }
   },
   "source": [
    "# 统计最多多少个字符"
   ]
  },
  {
   "cell_type": "code",
   "execution_count": 37,
   "metadata": {
    "ExecuteTime": {
     "end_time": "2020-08-05T12:49:14.070099Z",
     "start_time": "2020-08-05T12:46:45.170074Z"
    }
   },
   "outputs": [],
   "source": [
    "all_lines = ' '.join(train_df['text']) + ' ' + ' '.join(test_df['text'])\n",
    "all_words = np.array(all_lines.split()).astype(int)"
   ]
  },
  {
   "cell_type": "code",
   "execution_count": 38,
   "metadata": {
    "ExecuteTime": {
     "end_time": "2020-08-05T12:49:16.407356Z",
     "start_time": "2020-08-05T12:49:16.005358Z"
    }
   },
   "outputs": [
    {
     "data": {
      "text/plain": [
       "7549"
      ]
     },
     "execution_count": 38,
     "metadata": {},
     "output_type": "execute_result"
    }
   ],
   "source": [
    "all_words.max()"
   ]
  },
  {
   "cell_type": "markdown",
   "metadata": {},
   "source": [
    "# 统计每类新闻字符个数"
   ]
  },
  {
   "cell_type": "code",
   "execution_count": 39,
   "metadata": {
    "ExecuteTime": {
     "end_time": "2020-08-05T12:51:56.495555Z",
     "start_time": "2020-08-05T12:50:01.268269Z"
    }
   },
   "outputs": [],
   "source": [
    "train_df['text'] = train_df['text'].apply(lambda x: np.array(x.split(' ')).astype(int))\n",
    "test_df['text'] = test_df['text'].apply(lambda x: np.array(x.split(' ')).astype(int))"
   ]
  },
  {
   "cell_type": "code",
   "execution_count": 65,
   "metadata": {
    "ExecuteTime": {
     "end_time": "2020-08-05T12:57:15.094581Z",
     "start_time": "2020-08-05T12:57:09.128361Z"
    }
   },
   "outputs": [],
   "source": [
    "all_word_vec = np.zeros((14, 7550), dtype=np.float32)\n",
    "\n",
    "for row in train_df.itertuples():\n",
    "    all_word_vec[row.label, row.text] += 1\n",
    "    \n",
    "all_word_vec /= train_df.shape[0]"
   ]
  },
  {
   "cell_type": "code",
   "execution_count": 74,
   "metadata": {
    "ExecuteTime": {
     "end_time": "2020-08-05T12:58:59.618075Z",
     "start_time": "2020-08-05T12:58:59.605915Z"
    }
   },
   "outputs": [
    {
     "name": "stdout",
     "output_type": "stream",
     "text": [
      "0 [4811 3659 4464 7399 3370 6122 2465  648  900 3750]\n",
      "1 [6065  299 4853 2465 3659  648 4464 3370 3750  900]\n",
      "2 [4939 5598 5445 4704 6122 2465 7399  648  900 3750]\n",
      "3 [ 669 4811 4853 4893 6122 7399 2465  648  900 3750]\n",
      "4 [2400 4411 6122 4464 2073 7399  648 4853 3750  900]\n",
      "5 [ 299 5977 4659 5598 4893 7399 6122  648 3750  900]\n",
      "6 [6122 2555 6248 1519 1699 4811 5620  648  900 3750]\n",
      "7 [ 299 2400 4811 3659 4464 1699 3370  648 3750  900]\n",
      "8 [5598  669  913 4811 4939 7399 6122  900 3750  648]\n",
      "9 [2109 5598 4939 4811 7328 6122 7399  900  648 3750]\n",
      "10 [ 299 4464 2465 3370 1699 3686  648  885 3750  900]\n",
      "11 [4893 7399 4811  669 4939 7539 6122  900  648 3750]\n",
      "12 [6065 5602 2400 2465 3659 7539  900 3750 4464 3370]\n",
      "13 [3864 3870 4939  900 1580 7539 5491 2662 3750  648]\n"
     ]
    }
   ],
   "source": [
    "for idx in range(14):\n",
    "    print(idx, all_word_vec[idx].argsort()[-10:])"
   ]
  },
  {
   "cell_type": "code",
   "execution_count": 87,
   "metadata": {
    "ExecuteTime": {
     "end_time": "2020-08-05T13:05:30.703767Z",
     "start_time": "2020-08-05T13:05:30.696879Z"
    }
   },
   "outputs": [
    {
     "data": {
      "text/plain": [
       "(array([  35,   48,   64,   74,  106,  115,  153,  168,  178,  185,  216,\n",
       "         244,  251,  264,  286,  291,  302,  331,  347,  361,  387,  418,\n",
       "         431,  441,  466,  505,  512,  521,  532,  548,  564,  577,  586,\n",
       "         613,  616,  622,  634,  679,  697,  721,  745,  755,  761,  782,\n",
       "         793,  803,  828,  836,  842,  856,  861,  884,  897,  924,  928,\n",
       "         939,  949,  963,  968,  980, 1011, 1029, 1044, 1051]),)"
      ]
     },
     "execution_count": 87,
     "metadata": {},
     "output_type": "execute_result"
    }
   ],
   "source": [
    "np.where(train_df['text'].iloc[0] == 3750)"
   ]
  },
  {
   "cell_type": "code",
   "execution_count": 88,
   "metadata": {
    "ExecuteTime": {
     "end_time": "2020-08-05T13:05:40.841073Z",
     "start_time": "2020-08-05T13:05:40.834306Z"
    }
   },
   "outputs": [
    {
     "data": {
      "text/plain": [
       "(array([  61,   96,  141,  198,  237,  258,  279,  313,  378,  403,  457,\n",
       "         481,  490,  557,  597,  631,  647,  667,  703,  713,  775,  809,\n",
       "         849,  869,  891,  910,  976, 1018, 1047, 1055]),)"
      ]
     },
     "execution_count": 88,
     "metadata": {},
     "output_type": "execute_result"
    }
   ],
   "source": [
    "np.where(train_df['text'].iloc[0] == 900)"
   ]
  },
  {
   "cell_type": "code",
   "execution_count": 96,
   "metadata": {
    "ExecuteTime": {
     "end_time": "2020-08-05T13:06:47.809316Z",
     "start_time": "2020-08-05T13:06:47.801840Z"
    }
   },
   "outputs": [
    {
     "data": {
      "text/plain": [
       "array([3659, 1699, 4464, 4811, 7399, 6122, 2465,  648,  900, 3750])"
      ]
     },
     "execution_count": 96,
     "metadata": {},
     "output_type": "execute_result"
    }
   ],
   "source": [
    "all_word_vec.sum(0).argsort()[-10:]"
   ]
  },
  {
   "cell_type": "markdown",
   "metadata": {},
   "source": [
    "# baseline加强版"
   ]
  },
  {
   "cell_type": "code",
   "execution_count": 106,
   "metadata": {
    "ExecuteTime": {
     "end_time": "2020-08-05T13:25:04.876083Z",
     "start_time": "2020-08-05T13:24:57.080843Z"
    }
   },
   "outputs": [],
   "source": [
    "import numpy as np\n",
    "import pandas as pd\n",
    "from sklearn.model_selection import train_test_split, KFold, StratifiedKFold\n",
    "from sklearn.feature_extraction.text import TfidfVectorizer\n",
    "from sklearn.svm import LinearSVC\n",
    "from sklearn.metrics import f1_score\n",
    "\n",
    "train_df = pd.read_csv('../input/train_set.csv', sep='\\t', nrows=None)\n",
    "test_df = pd.read_csv('../input/test_a.csv', sep='\\t', nrows=None)"
   ]
  },
  {
   "cell_type": "code",
   "execution_count": null,
   "metadata": {
    "ExecuteTime": {
     "start_time": "2020-08-05T13:25:19.339Z"
    }
   },
   "outputs": [
    {
     "name": "stderr",
     "output_type": "stream",
     "text": [
      "/root/anaconda3/envs/pytorch/lib/python3.7/site-packages/sklearn/model_selection/_split.py:297: FutureWarning: Setting a random_state has no effect since shuffle is False. This will raise an error in 0.24. You should leave random_state to its default (None), or set shuffle=True.\n",
      "  FutureWarning\n"
     ]
    },
    {
     "name": "stdout",
     "output_type": "stream",
     "text": [
      "0.9347219118943704\n",
      "0.9331967081981244\n",
      "0.9326927616561106\n"
     ]
    }
   ],
   "source": [
    "tfidf = TfidfVectorizer(ngram_range=(1, 3), max_features=10000).fit(train_df['text'].iloc[:].values)\n",
    "train_tfidf = tfidf.transform(train_df['text'].iloc[:].values)\n",
    "test_tfidf = tfidf.transform(test_df['text'].iloc[:].values)\n",
    "\n",
    "skf = StratifiedKFold(n_splits=5, random_state=7) \n",
    "test_pred = np.zeros((test_tfidf.shape[0], 14), dtype=np.float32)  \n",
    "for idx, (train_index, valid_index) in enumerate(skf.split(train_tfidf, train_df['label'].values)):\n",
    "\n",
    "    x_train_, x_valid_ = train_tfidf[train_index], train_tfidf[valid_index]\n",
    "    y_train_, y_valid_ = train_df['label'].values[train_index], train_df['label'].values[valid_index]\n",
    "    \n",
    "    clf = LGBMClassifier()\n",
    "    clf.fit(x_train_, y_train_)\n",
    "    val_pred = clf.predict(x_valid_)\n",
    "    \n",
    "    print(f1_score(y_valid_, val_pred, average='macro'))\n",
    "    test_pred += clf.predict_proba(test_tfidf)"
   ]
  },
  {
   "cell_type": "code",
   "execution_count": 111,
   "metadata": {
    "ExecuteTime": {
     "end_time": "2020-08-06T01:32:03.674257Z",
     "start_time": "2020-08-06T01:32:03.666578Z"
    }
   },
   "outputs": [
    {
     "data": {
      "text/plain": [
       "array([[2.43331306e-03, 4.98582077e+00, 8.70002899e-04, ...,\n",
       "        1.79282186e-04, 3.83838706e-05, 1.42652807e-05],\n",
       "       [9.62744525e-04, 5.30660851e-04, 4.99282217e+00, ...,\n",
       "        1.09481793e-04, 5.39226567e-05, 3.21293896e-06],\n",
       "       [6.14396529e-03, 1.20122253e-03, 4.03519371e-04, ...,\n",
       "        2.68263917e-04, 1.42693880e-05, 5.24245479e-06],\n",
       "       ...,\n",
       "       [1.52684171e-02, 4.40746832e+00, 5.02393302e-03, ...,\n",
       "        1.00517226e-03, 2.04726894e-04, 7.74227083e-05],\n",
       "       [1.22115649e-02, 1.91734277e-03, 1.79137068e-03, ...,\n",
       "        1.72756307e-04, 1.54060166e-04, 1.05225445e-05],\n",
       "       [1.18725467e-02, 4.96777058e+00, 7.75435183e-04, ...,\n",
       "        1.73424472e-04, 2.99724416e-05, 1.18266225e-05]], dtype=float32)"
      ]
     },
     "execution_count": 111,
     "metadata": {},
     "output_type": "execute_result"
    }
   ],
   "source": [
    "test_pred"
   ]
  },
  {
   "cell_type": "code",
   "execution_count": 113,
   "metadata": {
    "ExecuteTime": {
     "end_time": "2020-08-06T01:32:24.390124Z",
     "start_time": "2020-08-06T01:32:24.252930Z"
    },
    "scrolled": true
   },
   "outputs": [],
   "source": [
    "df = pd.DataFrame()\n",
    "df['label'] = test_pred.argmax(1)\n",
    "df.to_csv('submit.csv', index=None)"
   ]
  },
  {
   "cell_type": "markdown",
   "metadata": {},
   "source": [
    "# TFIDF"
   ]
  },
  {
   "cell_type": "markdown",
   "metadata": {},
   "source": [
    "- https://scikit-learn.org/stable/modules/generated/sklearn.feature_extraction.text.CountVectorizer.html\n",
    "- https://scikit-learn.org/stable/modules/generated/sklearn.feature_extraction.text.TfidfTransformer.html\n",
    "- http://scikit-learn.org/stable/modules/generated/sklearn.feature_extraction.text.TfidfVectorizer.html"
   ]
  },
  {
   "cell_type": "code",
   "execution_count": 21,
   "metadata": {
    "ExecuteTime": {
     "end_time": "2020-08-06T10:01:51.504600Z",
     "start_time": "2020-08-06T10:01:51.481884Z"
    }
   },
   "outputs": [
    {
     "name": "stdout",
     "output_type": "stream",
     "text": [
      "[u'and', u'document', u'first', u'is', u'one', u'second', u'the', u'third', u'this']\n",
      "[[0 1 1 1 0 0 1 0 1]\n",
      " [0 2 0 1 0 1 1 0 1]\n",
      " [1 0 0 1 1 0 1 1 1]\n",
      " [0 1 1 1 0 0 1 0 1]]\n",
      "[u'and', u'and this', u'document', u'document is', u'first', u'first document', u'is', u'is the', u'is this', u'one', u'second', u'second document', u'the', u'the first', u'the second', u'the third', u'third', u'third one', u'this', u'this document', u'this is', u'this the']\n",
      "[[0 0 1 0 1 1 1 1 0 0 0 0 1 1 0 0 0 0 1 0 1 0]\n",
      " [0 0 2 1 0 0 1 1 0 0 1 1 1 0 1 0 0 0 1 1 0 0]\n",
      " [1 1 0 0 0 0 1 1 0 1 0 0 1 0 0 1 1 1 1 0 1 0]\n",
      " [0 0 1 0 1 1 1 0 1 0 0 0 1 1 0 0 0 0 1 0 0 1]]\n"
     ]
    }
   ],
   "source": [
    "from sklearn.feature_extraction.text import CountVectorizer\n",
    "corpus = [\n",
    "    'This is the first document.',\n",
    "    'This document is the second document.',\n",
    "    'And this is the third one.',\n",
    "    'Is this the first document?',\n",
    "]\n",
    "vectorizer = CountVectorizer()\n",
    "X = vectorizer.fit_transform(corpus)\n",
    "print(vectorizer.get_feature_names())\n",
    "print(X.toarray())\n",
    "\n",
    "vectorizer2 = CountVectorizer(analyzer='word', ngram_range=(1, 2))\n",
    "X2 = vectorizer2.fit_transform(corpus)\n",
    "print(vectorizer2.get_feature_names())\n",
    "print(X2.toarray())"
   ]
  },
  {
   "cell_type": "code",
   "execution_count": null,
   "metadata": {},
   "outputs": [],
   "source": [
    "from sklearn.feature_extraction.text import TfidfVectorizer\n",
    "corpus = [\n",
    "    'This is the first document.',\n",
    "    'This document is the second document.',\n",
    "    'And this is the third one.',\n",
    "    'Is this the first document?',\n",
    "]\n",
    "vectorizer = TfidfVectorizer()\n",
    "X = vectorizer.fit_transform(corpus)\n",
    "print(vectorizer.get_feature_names())\n",
    "\n",
    "print(X.shape)"
   ]
  },
  {
   "cell_type": "markdown",
   "metadata": {},
   "source": [
    "# FastText"
   ]
  },
  {
   "cell_type": "code",
   "execution_count": 16,
   "metadata": {
    "ExecuteTime": {
     "end_time": "2020-08-06T06:34:56.639662Z",
     "start_time": "2020-08-06T06:34:38.713815Z"
    },
    "scrolled": true
   },
   "outputs": [],
   "source": [
    "train_df = pd.read_csv('../input/train_set.csv', sep='\\t', nrows=None)\n",
    "train_df['label_ft'] = '__label__' + train_df['label'].astype(str)\n",
    "train_df[['text','label_ft']].iloc[:-5000].to_csv('train.csv', index=None, header=None, sep='\\t')"
   ]
  },
  {
   "cell_type": "code",
   "execution_count": 17,
   "metadata": {
    "ExecuteTime": {
     "end_time": "2020-08-06T06:42:16.721828Z",
     "start_time": "2020-08-06T06:35:01.856674Z"
    }
   },
   "outputs": [
    {
     "name": "stdout",
     "output_type": "stream",
     "text": [
      "0.9165102301726077\n"
     ]
    }
   ],
   "source": [
    "import fasttext\n",
    "model = fasttext.train_supervised('train.csv', lr=1.0, wordNgrams=5, \n",
    "                                  verbose=2, minCount=1, epoch=25, loss=\"hs\")\n",
    "\n",
    "val_pred = [model.predict(x)[0][0].split('__')[-1] for x in train_df.iloc[-5000:]['text']]\n",
    "print(f1_score(train_df['label'].values[-5000:].astype(str), val_pred, average='macro'))"
   ]
  }
 ],
 "metadata": {
  "kernelspec": {
   "display_name": "Python 3",
   "language": "python",
   "name": "python3"
  },
  "language_info": {
   "codemirror_mode": {
    "name": "ipython",
    "version": 3
   },
   "file_extension": ".py",
   "mimetype": "text/x-python",
   "name": "python",
   "nbconvert_exporter": "python",
   "pygments_lexer": "ipython3",
   "version": "3.6.8"
  },
  "toc": {
   "base_numbering": 1,
   "nav_menu": {},
   "number_sections": true,
   "sideBar": true,
   "skip_h1_title": false,
   "title_cell": "Table of Contents",
   "title_sidebar": "Contents",
   "toc_cell": false,
   "toc_position": {},
   "toc_section_display": true,
   "toc_window_display": false
  }
 },
 "nbformat": 4,
 "nbformat_minor": 4
}
